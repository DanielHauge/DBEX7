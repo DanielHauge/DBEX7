{
 "cells": [
  {
   "cell_type": "code",
   "execution_count": 1,
   "metadata": {},
   "outputs": [],
   "source": [
    "%load_ext sql"
   ]
  },
  {
   "cell_type": "code",
   "execution_count": 2,
   "metadata": {},
   "outputs": [
    {
     "data": {
      "text/plain": [
       "'Connected: appdev@appdev'"
      ]
     },
     "execution_count": 2,
     "metadata": {},
     "output_type": "execute_result"
    }
   ],
   "source": [
    "%sql postgresql://appdev@data:5432/appdev"
   ]
  },
  {
   "cell_type": "code",
   "execution_count": 9,
   "metadata": {},
   "outputs": [
    {
     "name": "stdout",
     "output_type": "stream",
     "text": [
      "13 rows affected.\n"
     ]
    },
    {
     "data": {
      "text/html": [
       "<table>\n",
       "    <tr>\n",
       "        <th>table_catalog</th>\n",
       "        <th>table_schema</th>\n",
       "        <th>table_name</th>\n",
       "        <th>table_type</th>\n",
       "        <th>self_referencing_column_name</th>\n",
       "        <th>reference_generation</th>\n",
       "        <th>user_defined_type_catalog</th>\n",
       "        <th>user_defined_type_schema</th>\n",
       "        <th>user_defined_type_name</th>\n",
       "        <th>is_insertable_into</th>\n",
       "        <th>is_typed</th>\n",
       "        <th>commit_action</th>\n",
       "    </tr>\n",
       "    <tr>\n",
       "        <td>appdev</td>\n",
       "        <td>f1db</td>\n",
       "        <td>circuits</td>\n",
       "        <td>BASE TABLE</td>\n",
       "        <td>None</td>\n",
       "        <td>None</td>\n",
       "        <td>None</td>\n",
       "        <td>None</td>\n",
       "        <td>None</td>\n",
       "        <td>YES</td>\n",
       "        <td>NO</td>\n",
       "        <td>None</td>\n",
       "    </tr>\n",
       "    <tr>\n",
       "        <td>appdev</td>\n",
       "        <td>f1db</td>\n",
       "        <td>constructorresults</td>\n",
       "        <td>BASE TABLE</td>\n",
       "        <td>None</td>\n",
       "        <td>None</td>\n",
       "        <td>None</td>\n",
       "        <td>None</td>\n",
       "        <td>None</td>\n",
       "        <td>YES</td>\n",
       "        <td>NO</td>\n",
       "        <td>None</td>\n",
       "    </tr>\n",
       "    <tr>\n",
       "        <td>appdev</td>\n",
       "        <td>f1db</td>\n",
       "        <td>constructors</td>\n",
       "        <td>BASE TABLE</td>\n",
       "        <td>None</td>\n",
       "        <td>None</td>\n",
       "        <td>None</td>\n",
       "        <td>None</td>\n",
       "        <td>None</td>\n",
       "        <td>YES</td>\n",
       "        <td>NO</td>\n",
       "        <td>None</td>\n",
       "    </tr>\n",
       "    <tr>\n",
       "        <td>appdev</td>\n",
       "        <td>f1db</td>\n",
       "        <td>constructorstandings</td>\n",
       "        <td>BASE TABLE</td>\n",
       "        <td>None</td>\n",
       "        <td>None</td>\n",
       "        <td>None</td>\n",
       "        <td>None</td>\n",
       "        <td>None</td>\n",
       "        <td>YES</td>\n",
       "        <td>NO</td>\n",
       "        <td>None</td>\n",
       "    </tr>\n",
       "    <tr>\n",
       "        <td>appdev</td>\n",
       "        <td>f1db</td>\n",
       "        <td>drivers</td>\n",
       "        <td>BASE TABLE</td>\n",
       "        <td>None</td>\n",
       "        <td>None</td>\n",
       "        <td>None</td>\n",
       "        <td>None</td>\n",
       "        <td>None</td>\n",
       "        <td>YES</td>\n",
       "        <td>NO</td>\n",
       "        <td>None</td>\n",
       "    </tr>\n",
       "    <tr>\n",
       "        <td>appdev</td>\n",
       "        <td>f1db</td>\n",
       "        <td>driverstandings</td>\n",
       "        <td>BASE TABLE</td>\n",
       "        <td>None</td>\n",
       "        <td>None</td>\n",
       "        <td>None</td>\n",
       "        <td>None</td>\n",
       "        <td>None</td>\n",
       "        <td>YES</td>\n",
       "        <td>NO</td>\n",
       "        <td>None</td>\n",
       "    </tr>\n",
       "    <tr>\n",
       "        <td>appdev</td>\n",
       "        <td>f1db</td>\n",
       "        <td>laptimes</td>\n",
       "        <td>BASE TABLE</td>\n",
       "        <td>None</td>\n",
       "        <td>None</td>\n",
       "        <td>None</td>\n",
       "        <td>None</td>\n",
       "        <td>None</td>\n",
       "        <td>YES</td>\n",
       "        <td>NO</td>\n",
       "        <td>None</td>\n",
       "    </tr>\n",
       "    <tr>\n",
       "        <td>appdev</td>\n",
       "        <td>f1db</td>\n",
       "        <td>pitstops</td>\n",
       "        <td>BASE TABLE</td>\n",
       "        <td>None</td>\n",
       "        <td>None</td>\n",
       "        <td>None</td>\n",
       "        <td>None</td>\n",
       "        <td>None</td>\n",
       "        <td>YES</td>\n",
       "        <td>NO</td>\n",
       "        <td>None</td>\n",
       "    </tr>\n",
       "    <tr>\n",
       "        <td>appdev</td>\n",
       "        <td>f1db</td>\n",
       "        <td>qualifying</td>\n",
       "        <td>BASE TABLE</td>\n",
       "        <td>None</td>\n",
       "        <td>None</td>\n",
       "        <td>None</td>\n",
       "        <td>None</td>\n",
       "        <td>None</td>\n",
       "        <td>YES</td>\n",
       "        <td>NO</td>\n",
       "        <td>None</td>\n",
       "    </tr>\n",
       "    <tr>\n",
       "        <td>appdev</td>\n",
       "        <td>f1db</td>\n",
       "        <td>races</td>\n",
       "        <td>BASE TABLE</td>\n",
       "        <td>None</td>\n",
       "        <td>None</td>\n",
       "        <td>None</td>\n",
       "        <td>None</td>\n",
       "        <td>None</td>\n",
       "        <td>YES</td>\n",
       "        <td>NO</td>\n",
       "        <td>None</td>\n",
       "    </tr>\n",
       "    <tr>\n",
       "        <td>appdev</td>\n",
       "        <td>f1db</td>\n",
       "        <td>results</td>\n",
       "        <td>BASE TABLE</td>\n",
       "        <td>None</td>\n",
       "        <td>None</td>\n",
       "        <td>None</td>\n",
       "        <td>None</td>\n",
       "        <td>None</td>\n",
       "        <td>YES</td>\n",
       "        <td>NO</td>\n",
       "        <td>None</td>\n",
       "    </tr>\n",
       "    <tr>\n",
       "        <td>appdev</td>\n",
       "        <td>f1db</td>\n",
       "        <td>seasons</td>\n",
       "        <td>BASE TABLE</td>\n",
       "        <td>None</td>\n",
       "        <td>None</td>\n",
       "        <td>None</td>\n",
       "        <td>None</td>\n",
       "        <td>None</td>\n",
       "        <td>YES</td>\n",
       "        <td>NO</td>\n",
       "        <td>None</td>\n",
       "    </tr>\n",
       "    <tr>\n",
       "        <td>appdev</td>\n",
       "        <td>f1db</td>\n",
       "        <td>status</td>\n",
       "        <td>BASE TABLE</td>\n",
       "        <td>None</td>\n",
       "        <td>None</td>\n",
       "        <td>None</td>\n",
       "        <td>None</td>\n",
       "        <td>None</td>\n",
       "        <td>YES</td>\n",
       "        <td>NO</td>\n",
       "        <td>None</td>\n",
       "    </tr>\n",
       "</table>"
      ],
      "text/plain": [
       "[('appdev', 'f1db', 'circuits', 'BASE TABLE', None, None, None, None, None, 'YES', 'NO', None),\n",
       " ('appdev', 'f1db', 'constructorresults', 'BASE TABLE', None, None, None, None, None, 'YES', 'NO', None),\n",
       " ('appdev', 'f1db', 'constructors', 'BASE TABLE', None, None, None, None, None, 'YES', 'NO', None),\n",
       " ('appdev', 'f1db', 'constructorstandings', 'BASE TABLE', None, None, None, None, None, 'YES', 'NO', None),\n",
       " ('appdev', 'f1db', 'drivers', 'BASE TABLE', None, None, None, None, None, 'YES', 'NO', None),\n",
       " ('appdev', 'f1db', 'driverstandings', 'BASE TABLE', None, None, None, None, None, 'YES', 'NO', None),\n",
       " ('appdev', 'f1db', 'laptimes', 'BASE TABLE', None, None, None, None, None, 'YES', 'NO', None),\n",
       " ('appdev', 'f1db', 'pitstops', 'BASE TABLE', None, None, None, None, None, 'YES', 'NO', None),\n",
       " ('appdev', 'f1db', 'qualifying', 'BASE TABLE', None, None, None, None, None, 'YES', 'NO', None),\n",
       " ('appdev', 'f1db', 'races', 'BASE TABLE', None, None, None, None, None, 'YES', 'NO', None),\n",
       " ('appdev', 'f1db', 'results', 'BASE TABLE', None, None, None, None, None, 'YES', 'NO', None),\n",
       " ('appdev', 'f1db', 'seasons', 'BASE TABLE', None, None, None, None, None, 'YES', 'NO', None),\n",
       " ('appdev', 'f1db', 'status', 'BASE TABLE', None, None, None, None, None, 'YES', 'NO', None)]"
      ]
     },
     "execution_count": 9,
     "metadata": {},
     "output_type": "execute_result"
    }
   ],
   "source": [
    "%sql SELECT * from Information_schema.tables WHERE table_schema = 'f1db';"
   ]
  },
  {
   "cell_type": "code",
   "execution_count": 201,
   "metadata": {},
   "outputs": [
    {
     "name": "stdout",
     "output_type": "stream",
     "text": [
      "1 rows affected.\n"
     ]
    },
    {
     "data": {
      "text/html": [
       "<table>\n",
       "    <tr>\n",
       "        <th>driverid</th>\n",
       "        <th>driverref</th>\n",
       "        <th>number</th>\n",
       "        <th>code</th>\n",
       "        <th>forename</th>\n",
       "        <th>surname</th>\n",
       "        <th>dob</th>\n",
       "        <th>nationality</th>\n",
       "        <th>url</th>\n",
       "    </tr>\n",
       "    <tr>\n",
       "        <td>13</td>\n",
       "        <td>massa</td>\n",
       "        <td>19</td>\n",
       "        <td>MAS</td>\n",
       "        <td>Felipe</td>\n",
       "        <td>Massa</td>\n",
       "        <td>1981-04-25</td>\n",
       "        <td>Brazilian</td>\n",
       "        <td>http://en.wikipedia.org/wiki/Felipe_Massa</td>\n",
       "    </tr>\n",
       "</table>"
      ],
      "text/plain": [
       "[(13, 'massa', 19, 'MAS', 'Felipe', 'Massa', datetime.date(1981, 4, 25), 'Brazilian', 'http://en.wikipedia.org/wiki/Felipe_Massa')]"
      ]
     },
     "execution_count": 201,
     "metadata": {},
     "output_type": "execute_result"
    }
   ],
   "source": [
    "%sql SELECT * from drivers WHERE driverref like '%massa%';"
   ]
  },
  {
   "cell_type": "code",
   "execution_count": 406,
   "metadata": {},
   "outputs": [
    {
     "name": "stdout",
     "output_type": "stream",
     "text": [
      "31 rows affected.\n"
     ]
    },
    {
     "data": {
      "text/html": [
       "<table>\n",
       "    <tr>\n",
       "        <th>forename</th>\n",
       "        <th>surname</th>\n",
       "        <th>driverid</th>\n",
       "        <th>wins</th>\n",
       "    </tr>\n",
       "    <tr>\n",
       "        <td>Kimi</td>\n",
       "        <td>Räikkönen</td>\n",
       "        <td>8</td>\n",
       "        <td>41</td>\n",
       "    </tr>\n",
       "    <tr>\n",
       "        <td>Lewis</td>\n",
       "        <td>Hamilton</td>\n",
       "        <td>1</td>\n",
       "        <td>38</td>\n",
       "    </tr>\n",
       "    <tr>\n",
       "        <td>Sebastian</td>\n",
       "        <td>Vettel</td>\n",
       "        <td>20</td>\n",
       "        <td>31</td>\n",
       "    </tr>\n",
       "    <tr>\n",
       "        <td>Fernando</td>\n",
       "        <td>Alonso</td>\n",
       "        <td>4</td>\n",
       "        <td>22</td>\n",
       "    </tr>\n",
       "    <tr>\n",
       "        <td>Michael</td>\n",
       "        <td>Schumacher</td>\n",
       "        <td>30</td>\n",
       "        <td>21</td>\n",
       "    </tr>\n",
       "    <tr>\n",
       "        <td>Nico</td>\n",
       "        <td>Rosberg</td>\n",
       "        <td>3</td>\n",
       "        <td>20</td>\n",
       "    </tr>\n",
       "    <tr>\n",
       "        <td>Mark</td>\n",
       "        <td>Webber</td>\n",
       "        <td>17</td>\n",
       "        <td>18</td>\n",
       "    </tr>\n",
       "    <tr>\n",
       "        <td>Felipe</td>\n",
       "        <td>Massa</td>\n",
       "        <td>13</td>\n",
       "        <td>15</td>\n",
       "    </tr>\n",
       "    <tr>\n",
       "        <td>Daniel</td>\n",
       "        <td>Ricciardo</td>\n",
       "        <td>817</td>\n",
       "        <td>9</td>\n",
       "    </tr>\n",
       "    <tr>\n",
       "        <td>Jenson</td>\n",
       "        <td>Button</td>\n",
       "        <td>18</td>\n",
       "        <td>8</td>\n",
       "    </tr>\n",
       "    <tr>\n",
       "        <td>Rubens</td>\n",
       "        <td>Barrichello</td>\n",
       "        <td>22</td>\n",
       "        <td>6</td>\n",
       "    </tr>\n",
       "    <tr>\n",
       "        <td>Sergio</td>\n",
       "        <td>Pérez</td>\n",
       "        <td>815</td>\n",
       "        <td>4</td>\n",
       "    </tr>\n",
       "    <tr>\n",
       "        <td>Juan</td>\n",
       "        <td>Pablo Montoya</td>\n",
       "        <td>31</td>\n",
       "        <td>3</td>\n",
       "    </tr>\n",
       "    <tr>\n",
       "        <td>Nick</td>\n",
       "        <td>Heidfeld</td>\n",
       "        <td>2</td>\n",
       "        <td>2</td>\n",
       "    </tr>\n",
       "    <tr>\n",
       "        <td>Heikki</td>\n",
       "        <td>Kovalainen</td>\n",
       "        <td>5</td>\n",
       "        <td>2</td>\n",
       "    </tr>\n",
       "    <tr>\n",
       "        <td>Nico</td>\n",
       "        <td>Hülkenberg</td>\n",
       "        <td>807</td>\n",
       "        <td>2</td>\n",
       "    </tr>\n",
       "    <tr>\n",
       "        <td>Ralf</td>\n",
       "        <td>Schumacher</td>\n",
       "        <td>23</td>\n",
       "        <td>1</td>\n",
       "    </tr>\n",
       "    <tr>\n",
       "        <td>Jarno</td>\n",
       "        <td>Trulli</td>\n",
       "        <td>15</td>\n",
       "        <td>1</td>\n",
       "    </tr>\n",
       "    <tr>\n",
       "        <td>Timo</td>\n",
       "        <td>Glock</td>\n",
       "        <td>10</td>\n",
       "        <td>1</td>\n",
       "    </tr>\n",
       "    <tr>\n",
       "        <td>Valtteri</td>\n",
       "        <td>Bottas</td>\n",
       "        <td>822</td>\n",
       "        <td>1</td>\n",
       "    </tr>\n",
       "    <tr>\n",
       "        <td>Kamui</td>\n",
       "        <td>Kobayashi</td>\n",
       "        <td>155</td>\n",
       "        <td>1</td>\n",
       "    </tr>\n",
       "    <tr>\n",
       "        <td>Vitaly</td>\n",
       "        <td>Petrov</td>\n",
       "        <td>808</td>\n",
       "        <td>1</td>\n",
       "    </tr>\n",
       "    <tr>\n",
       "        <td>Bruno</td>\n",
       "        <td>Senna</td>\n",
       "        <td>811</td>\n",
       "        <td>1</td>\n",
       "    </tr>\n",
       "    <tr>\n",
       "        <td>Max</td>\n",
       "        <td>Verstappen</td>\n",
       "        <td>830</td>\n",
       "        <td>1</td>\n",
       "    </tr>\n",
       "    <tr>\n",
       "        <td>Esteban</td>\n",
       "        <td>Gutiérrez</td>\n",
       "        <td>821</td>\n",
       "        <td>1</td>\n",
       "    </tr>\n",
       "    <tr>\n",
       "        <td>Robert</td>\n",
       "        <td>Kubica</td>\n",
       "        <td>9</td>\n",
       "        <td>1</td>\n",
       "    </tr>\n",
       "    <tr>\n",
       "        <td>Giancarlo</td>\n",
       "        <td>Fisichella</td>\n",
       "        <td>21</td>\n",
       "        <td>1</td>\n",
       "    </tr>\n",
       "    <tr>\n",
       "        <td>Pedro</td>\n",
       "        <td>de la Rosa</td>\n",
       "        <td>37</td>\n",
       "        <td>1</td>\n",
       "    </tr>\n",
       "    <tr>\n",
       "        <td>Adrian</td>\n",
       "        <td>Sutil</td>\n",
       "        <td>16</td>\n",
       "        <td>1</td>\n",
       "    </tr>\n",
       "    <tr>\n",
       "        <td>Romain</td>\n",
       "        <td>Grosjean</td>\n",
       "        <td>154</td>\n",
       "        <td>1</td>\n",
       "    </tr>\n",
       "    <tr>\n",
       "        <td>Daniil</td>\n",
       "        <td>Kvyat</td>\n",
       "        <td>826</td>\n",
       "        <td>1</td>\n",
       "    </tr>\n",
       "</table>"
      ],
      "text/plain": [
       "[('Kimi', 'Räikkönen', 8, 41),\n",
       " ('Lewis', 'Hamilton', 1, 38),\n",
       " ('Sebastian', 'Vettel', 20, 31),\n",
       " ('Fernando', 'Alonso', 4, 22),\n",
       " ('Michael', 'Schumacher', 30, 21),\n",
       " ('Nico', 'Rosberg', 3, 20),\n",
       " ('Mark', 'Webber', 17, 18),\n",
       " ('Felipe', 'Massa', 13, 15),\n",
       " ('Daniel', 'Ricciardo', 817, 9),\n",
       " ('Jenson', 'Button', 18, 8),\n",
       " ('Rubens', 'Barrichello', 22, 6),\n",
       " ('Sergio', 'Pérez', 815, 4),\n",
       " ('Juan', 'Pablo Montoya', 31, 3),\n",
       " ('Nick', 'Heidfeld', 2, 2),\n",
       " ('Heikki', 'Kovalainen', 5, 2),\n",
       " ('Nico', 'Hülkenberg', 807, 2),\n",
       " ('Ralf', 'Schumacher', 23, 1),\n",
       " ('Jarno', 'Trulli', 15, 1),\n",
       " ('Timo', 'Glock', 10, 1),\n",
       " ('Valtteri', 'Bottas', 822, 1),\n",
       " ('Kamui', 'Kobayashi', 155, 1),\n",
       " ('Vitaly', 'Petrov', 808, 1),\n",
       " ('Bruno', 'Senna', 811, 1),\n",
       " ('Max', 'Verstappen', 830, 1),\n",
       " ('Esteban', 'Gutiérrez', 821, 1),\n",
       " ('Robert', 'Kubica', 9, 1),\n",
       " ('Giancarlo', 'Fisichella', 21, 1),\n",
       " ('Pedro', 'de la Rosa', 37, 1),\n",
       " ('Adrian', 'Sutil', 16, 1),\n",
       " ('Romain', 'Grosjean', 154, 1),\n",
       " ('Daniil', 'Kvyat', 826, 1)]"
      ]
     },
     "execution_count": 406,
     "metadata": {},
     "output_type": "execute_result"
    }
   ],
   "source": [
    "%%sql SELECT drivers.forename, drivers.surname, drivers.driverid, count(results.rank) as Wins FROM drivers\n",
    "JOIN results USING(driverid) WHERE results.rank = 1 GROUP BY driverid ORDER BY Wins DESC;"
   ]
  },
  {
   "cell_type": "code",
   "execution_count": 11,
   "metadata": {},
   "outputs": [
    {
     "name": "stdout",
     "output_type": "stream",
     "text": [
      "1 rows affected.\n"
     ]
    },
    {
     "data": {
      "text/html": [
       "<table>\n",
       "    <tr>\n",
       "        <th>resultid</th>\n",
       "        <th>raceid</th>\n",
       "        <th>driverid</th>\n",
       "        <th>constructorid</th>\n",
       "        <th>number</th>\n",
       "        <th>grid</th>\n",
       "        <th>position</th>\n",
       "        <th>positiontext</th>\n",
       "        <th>positionorder</th>\n",
       "        <th>points</th>\n",
       "        <th>laps</th>\n",
       "        <th>time</th>\n",
       "        <th>milliseconds</th>\n",
       "        <th>fastestlap</th>\n",
       "        <th>rank</th>\n",
       "        <th>fastestlaptime</th>\n",
       "        <th>fastestlapspeed</th>\n",
       "        <th>statusid</th>\n",
       "    </tr>\n",
       "    <tr>\n",
       "        <td>1</td>\n",
       "        <td>18</td>\n",
       "        <td>1</td>\n",
       "        <td>1</td>\n",
       "        <td>22</td>\n",
       "        <td>1</td>\n",
       "        <td>1</td>\n",
       "        <td>1</td>\n",
       "        <td>1</td>\n",
       "        <td>10.0</td>\n",
       "        <td>58</td>\n",
       "        <td>1:34:50.616</td>\n",
       "        <td>5690616</td>\n",
       "        <td>39</td>\n",
       "        <td>2</td>\n",
       "        <td>1:27.452</td>\n",
       "        <td>218.300</td>\n",
       "        <td>1</td>\n",
       "    </tr>\n",
       "</table>"
      ],
      "text/plain": [
       "[(1, 18, 1, 1, 22, 1, 1, '1', 1, 10.0, 58, '1:34:50.616', 5690616, 39, 2, '1:27.452', '218.300', 1)]"
      ]
     },
     "execution_count": 11,
     "metadata": {},
     "output_type": "execute_result"
    }
   ],
   "source": [
    "%sql SELECT * from results limit 1"
   ]
  },
  {
   "cell_type": "code",
   "execution_count": 408,
   "metadata": {},
   "outputs": [
    {
     "name": "stdout",
     "output_type": "stream",
     "text": [
      "5 rows affected.\n"
     ]
    },
    {
     "data": {
      "text/html": [
       "<table>\n",
       "    <tr>\n",
       "        <th>driverref</th>\n",
       "        <th>name</th>\n",
       "        <th>count</th>\n",
       "    </tr>\n",
       "    <tr>\n",
       "        <td>michael_schumacher</td>\n",
       "        <td>Ferrari</td>\n",
       "        <td>181</td>\n",
       "    </tr>\n",
       "    <tr>\n",
       "        <td>coulthard</td>\n",
       "        <td>McLaren</td>\n",
       "        <td>150</td>\n",
       "    </tr>\n",
       "    <tr>\n",
       "        <td>massa</td>\n",
       "        <td>Ferrari</td>\n",
       "        <td>140</td>\n",
       "    </tr>\n",
       "    <tr>\n",
       "        <td>button</td>\n",
       "        <td>McLaren</td>\n",
       "        <td>137</td>\n",
       "    </tr>\n",
       "    <tr>\n",
       "        <td>rosberg</td>\n",
       "        <td>Mercedes</td>\n",
       "        <td>136</td>\n",
       "    </tr>\n",
       "</table>"
      ],
      "text/plain": [
       "[('michael_schumacher', 'Ferrari', 181),\n",
       " ('coulthard', 'McLaren', 150),\n",
       " ('massa', 'Ferrari', 140),\n",
       " ('button', 'McLaren', 137),\n",
       " ('rosberg', 'Mercedes', 136)]"
      ]
     },
     "execution_count": 408,
     "metadata": {},
     "output_type": "execute_result"
    }
   ],
   "source": [
    "%%sql \n",
    "SELECT drivers.driverref, constructors.name, count(*) from drivers\n",
    "JOIN results USING(driverid)\n",
    "JOIN constructors USING(constructorid) \n",
    "GROUP BY drivers.driverref, constructors.name \n",
    "ORDER BY count DESC LIMIT 5;"
   ]
  },
  {
   "cell_type": "code",
   "execution_count": 410,
   "metadata": {},
   "outputs": [
    {
     "name": "stdout",
     "output_type": "stream",
     "text": [
      "5 rows affected.\n"
     ]
    },
    {
     "data": {
      "text/html": [
       "<table>\n",
       "    <tr>\n",
       "        <th>driverref</th>\n",
       "        <th>name</th>\n",
       "        <th>count</th>\n",
       "    </tr>\n",
       "    <tr>\n",
       "        <td>michael_schumacher</td>\n",
       "        <td>Ferrari</td>\n",
       "        <td>141</td>\n",
       "    </tr>\n",
       "    <tr>\n",
       "        <td>massa</td>\n",
       "        <td>Ferrari</td>\n",
       "        <td>112</td>\n",
       "    </tr>\n",
       "    <tr>\n",
       "        <td>rosberg</td>\n",
       "        <td>Mercedes</td>\n",
       "        <td>109</td>\n",
       "    </tr>\n",
       "    <tr>\n",
       "        <td>webber</td>\n",
       "        <td>Red Bull</td>\n",
       "        <td>100</td>\n",
       "    </tr>\n",
       "    <tr>\n",
       "        <td>vettel</td>\n",
       "        <td>Red Bull</td>\n",
       "        <td>97</td>\n",
       "    </tr>\n",
       "</table>"
      ],
      "text/plain": [
       "[('michael_schumacher', 'Ferrari', 141),\n",
       " ('massa', 'Ferrari', 112),\n",
       " ('rosberg', 'Mercedes', 109),\n",
       " ('webber', 'Red Bull', 100),\n",
       " ('vettel', 'Red Bull', 97)]"
      ]
     },
     "execution_count": 410,
     "metadata": {},
     "output_type": "execute_result"
    }
   ],
   "source": [
    "%%sql \n",
    "SELECT drivers.driverref, constructors.name, count(constructors.name) from drivers\n",
    "JOIN results USING (driverid) \n",
    "JOIN constructors USING (constructorid) \n",
    "WHERE results.statusid = 1 \n",
    "GROUP BY drivers.driverref, constructors.name \n",
    "ORDER BY count DESC LIMIT 5;"
   ]
  },
  {
   "cell_type": "code",
   "execution_count": 320,
   "metadata": {},
   "outputs": [
    {
     "name": "stdout",
     "output_type": "stream",
     "text": [
      "Done.\n"
     ]
    },
    {
     "data": {
      "text/plain": [
       "[]"
      ]
     },
     "execution_count": 320,
     "metadata": {},
     "output_type": "execute_result"
    }
   ],
   "source": [
    "%%sql CREATE VIEW pit as\n",
    "SELECT driverid, raceid, sum(milliseconds) as ms FROM pitstops GROUP BY driverid, raceid;"
   ]
  },
  {
   "cell_type": "code",
   "execution_count": 412,
   "metadata": {},
   "outputs": [
    {
     "name": "stdout",
     "output_type": "stream",
     "text": [
      "5 rows affected.\n"
     ]
    },
    {
     "data": {
      "text/html": [
       "<table>\n",
       "    <tr>\n",
       "        <th>driverid</th>\n",
       "        <th>raceid</th>\n",
       "        <th>ms</th>\n",
       "    </tr>\n",
       "    <tr>\n",
       "        <td>815</td>\n",
       "        <td>969</td>\n",
       "        <td>22045</td>\n",
       "    </tr>\n",
       "    <tr>\n",
       "        <td>8</td>\n",
       "        <td>942</td>\n",
       "        <td>59281</td>\n",
       "    </tr>\n",
       "    <tr>\n",
       "        <td>20</td>\n",
       "        <td>898</td>\n",
       "        <td>24086</td>\n",
       "    </tr>\n",
       "    <tr>\n",
       "        <td>8</td>\n",
       "        <td>913</td>\n",
       "        <td>89060</td>\n",
       "    </tr>\n",
       "    <tr>\n",
       "        <td>807</td>\n",
       "        <td>894</td>\n",
       "        <td>47766</td>\n",
       "    </tr>\n",
       "</table>"
      ],
      "text/plain": [
       "[(815, 969, Decimal('22045')),\n",
       " (8, 942, Decimal('59281')),\n",
       " (20, 898, Decimal('24086')),\n",
       " (8, 913, Decimal('89060')),\n",
       " (807, 894, Decimal('47766'))]"
      ]
     },
     "execution_count": 412,
     "metadata": {},
     "output_type": "execute_result"
    }
   ],
   "source": [
    "%sql SELECT * from pit LIMIT 5"
   ]
  },
  {
   "cell_type": "code",
   "execution_count": 413,
   "metadata": {},
   "outputs": [
    {
     "name": "stdout",
     "output_type": "stream",
     "text": [
      "(psycopg2.ProgrammingError) relation \"q3\" already exists\n",
      " [SQL: 'CREATE VIEW q3 as\\nSELECT drivers.driverref, constructors.name, count(*), sum(ms)  from drivers\\nJOIN results USING (driverid) \\nFULL OUTER JOIN pit USING (driverid, raceid)\\nJOIN constructors USING (constructorid)\\nWHERE results.statusid = 1 \\nGROUP BY drivers.driverref, constructors.name\\nORDER BY count DESC']\n"
     ]
    }
   ],
   "source": [
    "%%sql CREATE VIEW q3 as\n",
    "SELECT drivers.driverref, constructors.name, count(*), sum(ms)  from drivers\n",
    "JOIN results USING (driverid) \n",
    "FULL OUTER JOIN pit USING (driverid, raceid)\n",
    "JOIN constructors USING (constructorid)\n",
    "WHERE results.statusid = 1 \n",
    "GROUP BY drivers.driverref, constructors.name\n",
    "ORDER BY count DESC"
   ]
  },
  {
   "cell_type": "code",
   "execution_count": 415,
   "metadata": {},
   "outputs": [
    {
     "name": "stdout",
     "output_type": "stream",
     "text": [
      "10 rows affected.\n"
     ]
    },
    {
     "data": {
      "text/html": [
       "<table>\n",
       "    <tr>\n",
       "        <th>driverref</th>\n",
       "        <th>name</th>\n",
       "        <th>count</th>\n",
       "        <th>sum</th>\n",
       "    </tr>\n",
       "    <tr>\n",
       "        <td>michael_schumacher</td>\n",
       "        <td>Ferrari</td>\n",
       "        <td>141</td>\n",
       "        <td>None</td>\n",
       "    </tr>\n",
       "    <tr>\n",
       "        <td>massa</td>\n",
       "        <td>Ferrari</td>\n",
       "        <td>112</td>\n",
       "        <td>2787290</td>\n",
       "    </tr>\n",
       "    <tr>\n",
       "        <td>rosberg</td>\n",
       "        <td>Mercedes</td>\n",
       "        <td>109</td>\n",
       "        <td>11501262</td>\n",
       "    </tr>\n",
       "    <tr>\n",
       "        <td>webber</td>\n",
       "        <td>Red Bull</td>\n",
       "        <td>100</td>\n",
       "        <td>3017372</td>\n",
       "    </tr>\n",
       "    <tr>\n",
       "        <td>vettel</td>\n",
       "        <td>Red Bull</td>\n",
       "        <td>97</td>\n",
       "        <td>4927545</td>\n",
       "    </tr>\n",
       "    <tr>\n",
       "        <td>raikkonen</td>\n",
       "        <td>Ferrari</td>\n",
       "        <td>92</td>\n",
       "        <td>3608658</td>\n",
       "    </tr>\n",
       "    <tr>\n",
       "        <td>button</td>\n",
       "        <td>McLaren</td>\n",
       "        <td>87</td>\n",
       "        <td>8515623</td>\n",
       "    </tr>\n",
       "    <tr>\n",
       "        <td>alonso</td>\n",
       "        <td>Ferrari</td>\n",
       "        <td>87</td>\n",
       "        <td>3691856</td>\n",
       "    </tr>\n",
       "    <tr>\n",
       "        <td>coulthard</td>\n",
       "        <td>McLaren</td>\n",
       "        <td>85</td>\n",
       "        <td>None</td>\n",
       "    </tr>\n",
       "    <tr>\n",
       "        <td>hamilton</td>\n",
       "        <td>Mercedes</td>\n",
       "        <td>85</td>\n",
       "        <td>12147994</td>\n",
       "    </tr>\n",
       "</table>"
      ],
      "text/plain": [
       "[('michael_schumacher', 'Ferrari', 141, None),\n",
       " ('massa', 'Ferrari', 112, Decimal('2787290')),\n",
       " ('rosberg', 'Mercedes', 109, Decimal('11501262')),\n",
       " ('webber', 'Red Bull', 100, Decimal('3017372')),\n",
       " ('vettel', 'Red Bull', 97, Decimal('4927545')),\n",
       " ('raikkonen', 'Ferrari', 92, Decimal('3608658')),\n",
       " ('button', 'McLaren', 87, Decimal('8515623')),\n",
       " ('alonso', 'Ferrari', 87, Decimal('3691856')),\n",
       " ('coulthard', 'McLaren', 85, None),\n",
       " ('hamilton', 'Mercedes', 85, Decimal('12147994'))]"
      ]
     },
     "execution_count": 415,
     "metadata": {},
     "output_type": "execute_result"
    }
   ],
   "source": [
    "%sql SELECT * from q3 LIMIT 10;"
   ]
  },
  {
   "cell_type": "code",
   "execution_count": 384,
   "metadata": {},
   "outputs": [
    {
     "name": "stdout",
     "output_type": "stream",
     "text": [
      "3 rows affected.\n"
     ]
    },
    {
     "data": {
      "text/html": [
       "<table>\n",
       "    <tr>\n",
       "        <th>driverref</th>\n",
       "        <th>name</th>\n",
       "        <th>count</th>\n",
       "        <th>sum</th>\n",
       "    </tr>\n",
       "    <tr>\n",
       "        <td>michael_schumacher</td>\n",
       "        <td>Ferrari</td>\n",
       "        <td>141</td>\n",
       "        <td>None</td>\n",
       "    </tr>\n",
       "    <tr>\n",
       "        <td>michael_schumacher</td>\n",
       "        <td>Benetton</td>\n",
       "        <td>44</td>\n",
       "        <td>None</td>\n",
       "    </tr>\n",
       "    <tr>\n",
       "        <td>michael_schumacher</td>\n",
       "        <td>Mercedes</td>\n",
       "        <td>34</td>\n",
       "        <td>1243146</td>\n",
       "    </tr>\n",
       "</table>"
      ],
      "text/plain": [
       "[('michael_schumacher', 'Ferrari', 141, None),\n",
       " ('michael_schumacher', 'Benetton', 44, None),\n",
       " ('michael_schumacher', 'Mercedes', 34, Decimal('1243146'))]"
      ]
     },
     "execution_count": 384,
     "metadata": {},
     "output_type": "execute_result"
    }
   ],
   "source": [
    "%sql SELECT * from q3 WHERE driverref like '%l_schumacher' LIMIT 10"
   ]
  },
  {
   "cell_type": "code",
   "execution_count": 376,
   "metadata": {},
   "outputs": [
    {
     "name": "stdout",
     "output_type": "stream",
     "text": [
      "1 rows affected.\n"
     ]
    },
    {
     "data": {
      "text/html": [
       "<table>\n",
       "    <tr>\n",
       "        <th>count</th>\n",
       "    </tr>\n",
       "    <tr>\n",
       "        <td>658</td>\n",
       "    </tr>\n",
       "</table>"
      ],
      "text/plain": [
       "[(658,)]"
      ]
     },
     "execution_count": 376,
     "metadata": {},
     "output_type": "execute_result"
    }
   ],
   "source": [
    "%sql SELECT count(*) from q3"
   ]
  },
  {
   "cell_type": "code",
   "execution_count": 393,
   "metadata": {},
   "outputs": [
    {
     "name": "stdout",
     "output_type": "stream",
     "text": [
      "(psycopg2.ProgrammingError) column \"totalpitstop\" does not exist\n",
      "LINE 2: ...tructors.name, count(*), sum(ms) as TotalPitStop, TotalPitSt...\n",
      "                                                             ^\n",
      " [SQL: 'CREATE VIEW q3v2 as\\nSELECT drivers.driverref, constructors.name, count(*), sum(ms) as TotalPitStop, TotalPitStop/count(results.driverid)  from drivers\\nJOIN results USING (driverid) \\nJOIN pit USING (driverid, raceid)\\nJOIN constructors USING (constructorid)\\nWHERE results.statusid = 1\\nGROUP BY drivers.driverref, constructors.name\\nORDER BY count DESC']\n"
     ]
    }
   ],
   "source": [
    "%%sql CREATE VIEW q3v2 as\n",
    "SELECT drivers.driverref, constructors.name, count(*), sum(ms)  from drivers\n",
    "JOIN results USING (driverid) \n",
    "JOIN pit USING (driverid, raceid)\n",
    "JOIN constructors USING (constructorid)\n",
    "WHERE results.statusid = 1\n",
    "GROUP BY drivers.driverref, constructors.name\n",
    "ORDER BY count DESC"
   ]
  },
  {
   "cell_type": "code",
   "execution_count": 417,
   "metadata": {},
   "outputs": [
    {
     "name": "stdout",
     "output_type": "stream",
     "text": [
      "5 rows affected.\n"
     ]
    },
    {
     "data": {
      "text/html": [
       "<table>\n",
       "    <tr>\n",
       "        <th>driverref</th>\n",
       "        <th>name</th>\n",
       "        <th>count</th>\n",
       "        <th>sum</th>\n",
       "    </tr>\n",
       "    <tr>\n",
       "        <td>rosberg</td>\n",
       "        <td>Mercedes</td>\n",
       "        <td>95</td>\n",
       "        <td>11501262</td>\n",
       "    </tr>\n",
       "    <tr>\n",
       "        <td>hamilton</td>\n",
       "        <td>Mercedes</td>\n",
       "        <td>85</td>\n",
       "        <td>12147994</td>\n",
       "    </tr>\n",
       "    <tr>\n",
       "        <td>button</td>\n",
       "        <td>McLaren</td>\n",
       "        <td>71</td>\n",
       "        <td>8515623</td>\n",
       "    </tr>\n",
       "    <tr>\n",
       "        <td>alonso</td>\n",
       "        <td>Ferrari</td>\n",
       "        <td>70</td>\n",
       "        <td>3691856</td>\n",
       "    </tr>\n",
       "    <tr>\n",
       "        <td>vettel</td>\n",
       "        <td>Red Bull</td>\n",
       "        <td>70</td>\n",
       "        <td>4927545</td>\n",
       "    </tr>\n",
       "</table>"
      ],
      "text/plain": [
       "[('rosberg', 'Mercedes', 95, Decimal('11501262')),\n",
       " ('hamilton', 'Mercedes', 85, Decimal('12147994')),\n",
       " ('button', 'McLaren', 71, Decimal('8515623')),\n",
       " ('alonso', 'Ferrari', 70, Decimal('3691856')),\n",
       " ('vettel', 'Red Bull', 70, Decimal('4927545'))]"
      ]
     },
     "execution_count": 417,
     "metadata": {},
     "output_type": "execute_result"
    }
   ],
   "source": [
    "%sql SELECT * from q3v2 LIMIT 5"
   ]
  },
  {
   "cell_type": "code",
   "execution_count": 419,
   "metadata": {},
   "outputs": [
    {
     "name": "stdout",
     "output_type": "stream",
     "text": [
      "10 rows affected.\n"
     ]
    },
    {
     "data": {
      "text/html": [
       "<table>\n",
       "    <tr>\n",
       "        <th>driverref</th>\n",
       "        <th>name</th>\n",
       "        <th>count</th>\n",
       "        <th>totalpitstop</th>\n",
       "        <th>averagepit</th>\n",
       "    </tr>\n",
       "    <tr>\n",
       "        <td>ambrosio</td>\n",
       "        <td>Lotus F1</td>\n",
       "        <td>1</td>\n",
       "        <td>21962</td>\n",
       "        <td>21962.00</td>\n",
       "    </tr>\n",
       "    <tr>\n",
       "        <td>rosa</td>\n",
       "        <td>HRT</td>\n",
       "        <td>1</td>\n",
       "        <td>22272</td>\n",
       "        <td>22272.00</td>\n",
       "    </tr>\n",
       "    <tr>\n",
       "        <td>hulkenberg</td>\n",
       "        <td>Renault</td>\n",
       "        <td>5</td>\n",
       "        <td>186700</td>\n",
       "        <td>37340.00</td>\n",
       "    </tr>\n",
       "    <tr>\n",
       "        <td>glock</td>\n",
       "        <td>Marussia</td>\n",
       "        <td>2</td>\n",
       "        <td>82876</td>\n",
       "        <td>41438.00</td>\n",
       "    </tr>\n",
       "    <tr>\n",
       "        <td>bruno_senna</td>\n",
       "        <td>Williams</td>\n",
       "        <td>13</td>\n",
       "        <td>574413</td>\n",
       "        <td>44185.62</td>\n",
       "    </tr>\n",
       "    <tr>\n",
       "        <td>perez</td>\n",
       "        <td>Sauber</td>\n",
       "        <td>15</td>\n",
       "        <td>681053</td>\n",
       "        <td>45403.53</td>\n",
       "    </tr>\n",
       "    <tr>\n",
       "        <td>resta</td>\n",
       "        <td>Force India</td>\n",
       "        <td>34</td>\n",
       "        <td>1563408</td>\n",
       "        <td>45982.59</td>\n",
       "    </tr>\n",
       "    <tr>\n",
       "        <td>ricciardo</td>\n",
       "        <td>Toro Rosso</td>\n",
       "        <td>22</td>\n",
       "        <td>1015872</td>\n",
       "        <td>46176.00</td>\n",
       "    </tr>\n",
       "    <tr>\n",
       "        <td>raikkonen</td>\n",
       "        <td>Lotus F1</td>\n",
       "        <td>33</td>\n",
       "        <td>1532336</td>\n",
       "        <td>46434.42</td>\n",
       "    </tr>\n",
       "    <tr>\n",
       "        <td>maldonado</td>\n",
       "        <td>Williams</td>\n",
       "        <td>21</td>\n",
       "        <td>982946</td>\n",
       "        <td>46806.95</td>\n",
       "    </tr>\n",
       "</table>"
      ],
      "text/plain": [
       "[('ambrosio', 'Lotus F1', 1, Decimal('21962'), Decimal('21962.00')),\n",
       " ('rosa', 'HRT', 1, Decimal('22272'), Decimal('22272.00')),\n",
       " ('hulkenberg', 'Renault', 5, Decimal('186700'), Decimal('37340.00')),\n",
       " ('glock', 'Marussia', 2, Decimal('82876'), Decimal('41438.00')),\n",
       " ('bruno_senna', 'Williams', 13, Decimal('574413'), Decimal('44185.62')),\n",
       " ('perez', 'Sauber', 15, Decimal('681053'), Decimal('45403.53')),\n",
       " ('resta', 'Force India', 34, Decimal('1563408'), Decimal('45982.59')),\n",
       " ('ricciardo', 'Toro Rosso', 22, Decimal('1015872'), Decimal('46176.00')),\n",
       " ('raikkonen', 'Lotus F1', 33, Decimal('1532336'), Decimal('46434.42')),\n",
       " ('maldonado', 'Williams', 21, Decimal('982946'), Decimal('46806.95'))]"
      ]
     },
     "execution_count": 419,
     "metadata": {},
     "output_type": "execute_result"
    }
   ],
   "source": [
    "%%sql\n",
    "SELECT drivers.driverref, constructors.name, count(*), sum(ms) as TotalPitStop, ROUND(sum(ms)/count(results.raceid), 2) as AveragePit  from drivers\n",
    "JOIN results USING (driverid) \n",
    "JOIN pit USING (driverid, raceid)\n",
    "JOIN constructors USING (constructorid)\n",
    "WHERE results.statusid = 1\n",
    "GROUP BY drivers.driverref, constructors.name\n",
    "ORDER BY averagePit ASC LIMIT 10"
   ]
  },
  {
   "cell_type": "code",
   "execution_count": null,
   "metadata": {},
   "outputs": [],
   "source": []
  }
 ],
 "metadata": {
  "kernelspec": {
   "display_name": "Python 3",
   "language": "python",
   "name": "python3"
  },
  "language_info": {
   "codemirror_mode": {
    "name": "ipython",
    "version": 3
   },
   "file_extension": ".py",
   "mimetype": "text/x-python",
   "name": "python",
   "nbconvert_exporter": "python",
   "pygments_lexer": "ipython3",
   "version": "3.6.3"
  }
 },
 "nbformat": 4,
 "nbformat_minor": 2
}
